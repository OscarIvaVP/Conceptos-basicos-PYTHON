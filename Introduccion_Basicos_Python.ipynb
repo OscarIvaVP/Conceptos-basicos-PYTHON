{
  "nbformat": 4,
  "nbformat_minor": 0,
  "metadata": {
    "colab": {
      "provenance": [],
      "include_colab_link": true
    },
    "kernelspec": {
      "name": "python3",
      "display_name": "Python 3"
    },
    "language_info": {
      "name": "python"
    }
  },
  "cells": [
    {
      "cell_type": "markdown",
      "metadata": {
        "id": "view-in-github",
        "colab_type": "text"
      },
      "source": [
        "<a href=\"https://colab.research.google.com/github/OscarIvaVP/Conceptos-basicos-PYTHON/blob/main/Introduccion_Basicos_Python.ipynb\" target=\"_parent\"><img src=\"https://colab.research.google.com/assets/colab-badge.svg\" alt=\"Open In Colab\"/></a>"
      ]
    },
    {
      "cell_type": "markdown",
      "source": [
        "# **Variables**"
      ],
      "metadata": {
        "id": "clmrNTAq_OP-"
      }
    },
    {
      "cell_type": "code",
      "execution_count": null,
      "metadata": {
        "id": "CVs2iB38aGB2",
        "colab": {
          "base_uri": "https://localhost:8080/"
        },
        "outputId": "5045bf40-3a2f-4a23-f727-b775de4d8c4f"
      },
      "outputs": [
        {
          "output_type": "execute_result",
          "data": {
            "text/plain": [
              "int"
            ]
          },
          "metadata": {},
          "execution_count": 2
        }
      ],
      "source": [
        "# Enteros o denominados  (int)\n",
        "x=1\n",
        "type(x)"
      ]
    },
    {
      "cell_type": "code",
      "source": [
        "#Decimales o denominados  (float)\n",
        "y = 1.445\n",
        "type(y)"
      ],
      "metadata": {
        "colab": {
          "base_uri": "https://localhost:8080/"
        },
        "id": "BtNyFxAs_SkY",
        "outputId": "0468a53b-39c8-4798-b0c9-a0cc4558dd8a"
      },
      "execution_count": null,
      "outputs": [
        {
          "output_type": "execute_result",
          "data": {
            "text/plain": [
              "float"
            ]
          },
          "metadata": {},
          "execution_count": 3
        }
      ]
    },
    {
      "cell_type": "code",
      "source": [
        "#Conjunto de simbolos (números o letras) o denominados  (str)\n",
        "x = \"hola\"\n",
        "y = \"123\"  #estos es un conjunto de número, pero no permite hacer operaciones matemáticas\n",
        "type(y) #muestra cual es el tipo de variable"
      ],
      "metadata": {
        "colab": {
          "base_uri": "https://localhost:8080/"
        },
        "id": "b_Sic6Hh_VJ_",
        "outputId": "afe41560-bce0-46c7-8b62-74dc6ac40504"
      },
      "execution_count": null,
      "outputs": [
        {
          "output_type": "execute_result",
          "data": {
            "text/plain": [
              "str"
            ]
          },
          "metadata": {},
          "execution_count": 4
        }
      ]
    },
    {
      "cell_type": "markdown",
      "source": [
        "# **Operadores**"
      ],
      "metadata": {
        "id": "PdVDufRJ_XNd"
      }
    },
    {
      "cell_type": "code",
      "source": [
        "#Sumar (+)\n",
        "x = 23.5\n",
        "y = 7\n",
        "z = x + y\n",
        "print(z)"
      ],
      "metadata": {
        "colab": {
          "base_uri": "https://localhost:8080/"
        },
        "id": "19gXucF8_X2X",
        "outputId": "4b366398-dda6-4ae0-ddb1-b1709a43feab"
      },
      "execution_count": null,
      "outputs": [
        {
          "output_type": "stream",
          "name": "stdout",
          "text": [
            "30.5\n"
          ]
        }
      ]
    },
    {
      "cell_type": "code",
      "source": [
        "# Resta (-)\n",
        "x = 5\n",
        "y = 15\n",
        "z = y - x\n",
        "print(z)"
      ],
      "metadata": {
        "colab": {
          "base_uri": "https://localhost:8080/"
        },
        "id": "e2IbsPiR_Zcp",
        "outputId": "a8ecf0f3-a1aa-4dca-cc9b-119a996f2558"
      },
      "execution_count": null,
      "outputs": [
        {
          "output_type": "stream",
          "name": "stdout",
          "text": [
            "10\n"
          ]
        }
      ]
    },
    {
      "cell_type": "code",
      "source": [
        "# Multiplicación (*)\n",
        "x = 10\n",
        "y = 4\n",
        "z = y * x\n",
        "print(z)"
      ],
      "metadata": {
        "colab": {
          "base_uri": "https://localhost:8080/"
        },
        "id": "glEsdqf0_ZgR",
        "outputId": "c33172ac-a913-4d13-97f6-2f2a14862828"
      },
      "execution_count": null,
      "outputs": [
        {
          "output_type": "stream",
          "name": "stdout",
          "text": [
            "40\n"
          ]
        }
      ]
    },
    {
      "cell_type": "code",
      "source": [
        "# División (/)\n",
        "x = 3\n",
        "y = 9\n",
        "z = y / x\n",
        "print(z)"
      ],
      "metadata": {
        "colab": {
          "base_uri": "https://localhost:8080/"
        },
        "id": "ALf6HGd1_Zol",
        "outputId": "de0f4f33-096e-4a4b-9024-dc2704ff1540"
      },
      "execution_count": null,
      "outputs": [
        {
          "output_type": "stream",
          "name": "stdout",
          "text": [
            "3.0\n"
          ]
        }
      ]
    },
    {
      "cell_type": "code",
      "source": [
        "# Potencia (**)\n",
        "x = 2\n",
        "y = 3\n",
        "\n",
        "z = y**x\n",
        "\n",
        "print(z)"
      ],
      "metadata": {
        "colab": {
          "base_uri": "https://localhost:8080/"
        },
        "id": "LgrgiWvw_ZtE",
        "outputId": "b7a6da72-13df-4984-adc0-d4bc6fffccf2"
      },
      "execution_count": null,
      "outputs": [
        {
          "output_type": "stream",
          "name": "stdout",
          "text": [
            "9\n"
          ]
        }
      ]
    },
    {
      "cell_type": "markdown",
      "source": [
        "# **Expresiones**"
      ],
      "metadata": {
        "id": "kyzmj-J__fZe"
      }
    },
    {
      "cell_type": "code",
      "source": [
        "#Entre variables enteros (int) y/o decimales (float)\n",
        "x = 1.5\n",
        "y = 2.5\n",
        "z =  x + y\n",
        "print(z)"
      ],
      "metadata": {
        "colab": {
          "base_uri": "https://localhost:8080/"
        },
        "id": "UM7enJR2_Z9T",
        "outputId": "bca84866-ab2d-48c0-aba3-7781415dd5d0"
      },
      "execution_count": null,
      "outputs": [
        {
          "output_type": "stream",
          "name": "stdout",
          "text": [
            "4.0\n"
          ]
        }
      ]
    },
    {
      "cell_type": "code",
      "source": [
        "#Entre variables string\n",
        "x = \"Buenos\"\n",
        "y = \" Días\"\n",
        "z = x + y\n",
        "print(z)"
      ],
      "metadata": {
        "colab": {
          "base_uri": "https://localhost:8080/"
        },
        "id": "cVSx7KGq_Z__",
        "outputId": "bdcab2e9-e633-439d-d3c8-78c6628905cf"
      },
      "execution_count": null,
      "outputs": [
        {
          "output_type": "stream",
          "name": "stdout",
          "text": [
            "Buenos Días\n"
          ]
        }
      ]
    },
    {
      "cell_type": "code",
      "source": [
        "#Entre string y entero o decimal, se requiere transformar la variable\n",
        "x = 1\n",
        "y = \"123\"\n",
        "\n",
        "z = x + int(y)\n",
        "\n",
        "print(z)"
      ],
      "metadata": {
        "colab": {
          "base_uri": "https://localhost:8080/"
        },
        "id": "VYeIHxyT_lKu",
        "outputId": "e74d679a-61c0-4efc-855e-815cae45d505"
      },
      "execution_count": null,
      "outputs": [
        {
          "output_type": "stream",
          "name": "stdout",
          "text": [
            "124\n"
          ]
        }
      ]
    },
    {
      "cell_type": "markdown",
      "source": [
        "**Orden de operación den una expresión**\n",
        "\n",
        "1. Potencia\n",
        "2. Multiplicación o división\n",
        "3. Suma o resta"
      ],
      "metadata": {
        "id": "92QRHNgS_mmi"
      }
    },
    {
      "cell_type": "code",
      "source": [
        "20-2**5/4*2"
      ],
      "metadata": {
        "colab": {
          "base_uri": "https://localhost:8080/"
        },
        "id": "X784EUpB_m9V",
        "outputId": "f89e40fa-b2d3-4456-e5b9-e33a0c89aca1"
      },
      "execution_count": null,
      "outputs": [
        {
          "output_type": "execute_result",
          "data": {
            "text/plain": [
              "4.0"
            ]
          },
          "metadata": {},
          "execution_count": 13
        }
      ]
    },
    {
      "cell_type": "code",
      "source": [
        "4*2"
      ],
      "metadata": {
        "colab": {
          "base_uri": "https://localhost:8080/"
        },
        "id": "P5Ou4pwKdYx3",
        "outputId": "5c36087c-356c-4bc5-f112-4c0b14a6951e"
      },
      "execution_count": null,
      "outputs": [
        {
          "output_type": "execute_result",
          "data": {
            "text/plain": [
              "8"
            ]
          },
          "metadata": {},
          "execution_count": 14
        }
      ]
    },
    {
      "cell_type": "markdown",
      "source": [
        "# **Alternativas para programa**"
      ],
      "metadata": {
        "id": "e4jZrS4L_sxZ"
      }
    },
    {
      "cell_type": "code",
      "source": [
        "#Secuenciales\n",
        "x = 1\n",
        "x = x + 2\n",
        "print(x)"
      ],
      "metadata": {
        "colab": {
          "base_uri": "https://localhost:8080/"
        },
        "id": "0hRXkMFg_sFO",
        "outputId": "9d76f211-b04a-47bb-d665-d9fec45325e5"
      },
      "execution_count": null,
      "outputs": [
        {
          "output_type": "stream",
          "name": "stdout",
          "text": [
            "3\n"
          ]
        }
      ]
    },
    {
      "cell_type": "code",
      "source": [
        "#Condicionales\n",
        "\n",
        "x = 33\n",
        "if x < 20:\n",
        "  print(\"bien\")\n",
        "if x > 30:\n",
        "  print(\"mal\")"
      ],
      "metadata": {
        "colab": {
          "base_uri": "https://localhost:8080/"
        },
        "id": "hQF6gyPi_yyA",
        "outputId": "4af1f772-c84a-4771-dc01-4c62c8214cf0"
      },
      "execution_count": null,
      "outputs": [
        {
          "output_type": "stream",
          "name": "stdout",
          "text": [
            "mal\n"
          ]
        }
      ]
    },
    {
      "cell_type": "code",
      "source": [
        "#Repetitivos\n",
        "\n",
        "x = 6\n",
        "\n",
        "while x > 0:\n",
        "  print(x)\n",
        "  x=x-2"
      ],
      "metadata": {
        "colab": {
          "base_uri": "https://localhost:8080/"
        },
        "id": "CT35sVF8_zFQ",
        "outputId": "f7640f58-0710-410f-daf2-157060932d23"
      },
      "execution_count": null,
      "outputs": [
        {
          "output_type": "stream",
          "name": "stdout",
          "text": [
            "6\n",
            "4\n",
            "2\n"
          ]
        }
      ]
    },
    {
      "cell_type": "markdown",
      "source": [
        "## **input()**"
      ],
      "metadata": {
        "id": "IV-I46tuABgV"
      }
    },
    {
      "cell_type": "markdown",
      "source": [
        "**Ejemplo** **saludo**"
      ],
      "metadata": {
        "id": "qZfI08XVAGki"
      }
    },
    {
      "cell_type": "code",
      "source": [
        "#La función input() le permite solicitar alguna variable\n",
        "\n",
        "x = input(\"¿Cuál es su nombre?   \")\n",
        "\n",
        "print(\"Hola\", x)"
      ],
      "metadata": {
        "colab": {
          "base_uri": "https://localhost:8080/"
        },
        "id": "fsNTOAeGAG6U",
        "outputId": "45dd8e79-fc67-491f-c757-bbeb986b1e72"
      },
      "execution_count": null,
      "outputs": [
        {
          "output_type": "stream",
          "name": "stdout",
          "text": [
            "¿Cuál es su nombre?   Oscar\n",
            "Hola Oscar\n"
          ]
        }
      ]
    },
    {
      "cell_type": "markdown",
      "source": [
        "**Ejemplo** **zonas** **horarios**"
      ],
      "metadata": {
        "id": "kElXvzgcAXp7"
      }
    },
    {
      "cell_type": "code",
      "source": [
        "hr_colombia = input(\"¿Cuál es la hora en Colombia?  \")\n",
        "\n",
        "hr_argentina = float(hr_colombia) + 2\n",
        "\n",
        "\n",
        "print(\"La hora en Argentina es\", hr_argentina,\"hrs\")"
      ],
      "metadata": {
        "colab": {
          "base_uri": "https://localhost:8080/"
        },
        "id": "1v8rtL0PAb-Z",
        "outputId": "0b991b8c-cabf-44c2-eac3-0d3042e55cc1"
      },
      "execution_count": null,
      "outputs": [
        {
          "output_type": "stream",
          "name": "stdout",
          "text": [
            "¿Cuál es la hora en Colombia?  11\n",
            "La hora en Argentina es 13.0 hrs\n"
          ]
        }
      ]
    },
    {
      "cell_type": "markdown",
      "source": [
        "**Ejemplo de convertir grados de temperatura**"
      ],
      "metadata": {
        "id": "fbkH4cB_AnIE"
      }
    },
    {
      "cell_type": "code",
      "source": [
        "x = input(\"¿Cuál es la temperatura en grados fahrenheit?  \")\n",
        "y = (float(x)-32)*(5/9)\n",
        "print(\"Esta temperatura en grado centigrado es\",y)"
      ],
      "metadata": {
        "id": "5LdI4kx1ApSu",
        "colab": {
          "base_uri": "https://localhost:8080/"
        },
        "outputId": "a85478e2-f51e-4057-a35d-61b7ea689c46"
      },
      "execution_count": null,
      "outputs": [
        {
          "output_type": "stream",
          "name": "stdout",
          "text": [
            "¿Cuál es la temperatura en grados fahrenheit?  120\n",
            "Esta temperatura en grado centigrado es 48.88888888888889\n"
          ]
        }
      ]
    },
    {
      "cell_type": "markdown",
      "source": [
        "**Ejemplo de pago con dos variables**"
      ],
      "metadata": {
        "id": "VY5L8CNCAmUJ"
      }
    },
    {
      "cell_type": "code",
      "source": [
        "x = input(\"¿Cuantas horas trabajo en la semana?  \")\n",
        "y = input(\"¿Cual es la tasa de pago $/hrs?  \")\n",
        "z = float(x) * float(y)\n",
        "print(\"Su pago es de\", z)"
      ],
      "metadata": {
        "id": "tI2sRsDSAj0B",
        "colab": {
          "base_uri": "https://localhost:8080/"
        },
        "outputId": "16dacad7-9507-433d-ac83-8460e6f608b1"
      },
      "execution_count": null,
      "outputs": [
        {
          "output_type": "stream",
          "name": "stdout",
          "text": [
            "¿Cuantas horas trabajo en la semana?  22\n",
            "¿Cual es la tasa de pago $/hrs?  30000\n",
            "Su pago es de 660000.0\n"
          ]
        }
      ]
    },
    {
      "cell_type": "markdown",
      "source": [
        "**Ejemplo con if**"
      ],
      "metadata": {
        "id": "IguO_f9FBfHT"
      }
    },
    {
      "cell_type": "code",
      "source": [
        "# if significa que \"si\" cumple con la condición se da el resultado\n",
        "x = input(\"¿Cuatos años tiene?  \")\n",
        "x = float(x) #es necesario convertir el tipo de variable\n",
        "if x < 18:\n",
        "  print(\"Es menor de edad\")"
      ],
      "metadata": {
        "id": "d8yDaWv_BjHy",
        "colab": {
          "base_uri": "https://localhost:8080/"
        },
        "outputId": "b4d5b809-0c7d-48d6-e465-d4e3659727aa"
      },
      "execution_count": null,
      "outputs": [
        {
          "name": "stdout",
          "output_type": "stream",
          "text": [
            "¿Cuatos años tiene?  30\n"
          ]
        }
      ]
    },
    {
      "cell_type": "code",
      "source": [
        "#else significa que \"sino\" se cumple la condición se imprime el resultado\n",
        "x = input(\"¿Cuatos años tiene?  \")\n",
        "x = float(x) #es necesario convertir el tipo de variable\n",
        "if x >= 18:\n",
        "  print(\"Es mayor de edad\")\n",
        "else:\n",
        "  print(\"Es menor de edad\")"
      ],
      "metadata": {
        "id": "wbO6z5DkCNUs",
        "colab": {
          "base_uri": "https://localhost:8080/"
        },
        "outputId": "09102c84-8a03-4942-de18-dc41edf12150"
      },
      "execution_count": null,
      "outputs": [
        {
          "output_type": "stream",
          "name": "stdout",
          "text": [
            "¿Cuatos años tiene?  30\n",
            "Es mayor de edad\n"
          ]
        }
      ]
    },
    {
      "cell_type": "code",
      "source": [
        "x = float(input(\"¿Cual fue su calificación?  \"))\n",
        "\n",
        "if x >= 4:\n",
        "  print(\"Excelente nota\")\n",
        "elif x >= 3:\n",
        "  print(\"Aceptable nota\")\n",
        "else:\n",
        "  print(\"Deficiente nota\")"
      ],
      "metadata": {
        "colab": {
          "base_uri": "https://localhost:8080/"
        },
        "id": "PQCQWpIjCmad",
        "outputId": "95645680-7f3c-4a39-f48a-ef4c490e7771"
      },
      "execution_count": null,
      "outputs": [
        {
          "output_type": "stream",
          "name": "stdout",
          "text": [
            "¿Cual fue su calificación?  4\n",
            "Excelente nota\n"
          ]
        }
      ]
    }
  ]
}